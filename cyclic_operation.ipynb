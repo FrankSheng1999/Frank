{
  "nbformat": 4,
  "nbformat_minor": 0,
  "metadata": {
    "colab": {
      "provenance": [],
      "mount_file_id": "1HxQfYArgRHhFiLdihn12J6tVu1e21bru",
      "authorship_tag": "ABX9TyMgd44j/fOSDlFj+Z/Nr1T5",
      "include_colab_link": true
    },
    "kernelspec": {
      "name": "python3",
      "display_name": "Python 3"
    },
    "language_info": {
      "name": "python"
    }
  },
  "cells": [
    {
      "cell_type": "markdown",
      "metadata": {
        "id": "view-in-github",
        "colab_type": "text"
      },
      "source": [
        "<a href=\"https://colab.research.google.com/github/FrankSheng1999/Frank/blob/master/cyclic_operation.ipynb\" target=\"_parent\"><img src=\"https://colab.research.google.com/assets/colab-badge.svg\" alt=\"Open In Colab\"/></a>"
      ]
    },
    {
      "cell_type": "code",
      "source": [
        "import pandas as pd\n",
        "import matplotlib.pyplot as plt\n",
        "file_path = \"/mnt/data/1-Cyclic operations in transit-Data.xlsx\" #文件路径\n",
        "xls = pd.ExcelFile(file_path)\n",
        "\n",
        "# 读取方向1和方向2的数据\n",
        "df_dir1 = pd.read_excel(xls, sheet_name=\"direction1\", header=None, names=[\"StartTime\", \"Duration\"])\n",
        "df_dir2 = pd.read_excel(xls, sheet_name=\"direction2\", header=None, names=[\"StartTime\", \"Duration\"])\n",
        "\n",
        "df_dir1[\"Duration\"] = pd.to_numeric(df_dir1[\"Duration\"], errors=\"coerce\")\n",
        "df_dir2[\"Duration\"] = pd.to_numeric(df_dir2[\"Duration\"], errors=\"coerce\")\n",
        "\n",
        "# 1. 利用每个方向的所有观测数据计算平均值、中位数、最小值、最大值和第 95\n",
        "# 百分位运行时间。(每个统计量应该有两个，每个方向一个）。\n",
        "def compute_statistics(df):\n",
        "    return {\n",
        "        \"Mean\": df[\"Duration\"].mean(),\n",
        "        \"Median\": df[\"Duration\"].median(),\n",
        "        \"Min\": df[\"Duration\"].min(),\n",
        "        \"Max\": df[\"Duration\"].max(),\n",
        "        \"95th Percentile\": df[\"Duration\"].quantile(0.95)\n",
        "    }\n",
        "stats_dir1 = compute_statistics(df_dir1)\n",
        "stats_dir2 = compute_statistics(df_dir2)\n",
        "print(stats_dir1)\n",
        "print(stats_dir2)\n",
        "\n",
        "# 2. 简单路线的周期时间 c 的计算公式为:c = t1 + r1 + t2 + r2\n",
        "# 使用第 3 步计算的统计数据，计算每个方向的运行时间、恢\n",
        "# 复时间和半周期时间，以及该计划运输服务的周期时间。\n",
        "t1 = stats_dir1[\"Mean\"]  # 方向 1 平均运行时间\n",
        "t2 = stats_dir2[\"Mean\"]  # 方向 2 平均运行时间\n",
        "r1, r2 = 0, 0 # 假设恢复时间为 0\n",
        "\n",
        "cycle_time = t1 + r1 + t2 + r2\n",
        "print(\"c = :\", round(cycle_time,2))\n",
        "\n",
        "\n",
        "# 3. 回顾周期时间 c、班次间隔 h 和车辆数 n 之间的关系为\n",
        "# c = nh 或 n = c/h\n",
        "# 使用步骤 4 中的周期时间，计算在 10 分钟车程内提供服务所需的车辆数。\n",
        "h = 10\n",
        "n = cycle_time / 10\n",
        "print(\"n = :\", round(n, 0))\n",
        "\n",
        "# 4. 按一天中的时间对每个方向的数据进行分类，并生成每个方向的运行时间与\n",
        "# 一天中时间的函数关系散点图。\n",
        "\n",
        "# 绘制方向 1 散点图\n"
      ],
      "metadata": {
        "colab": {
          "base_uri": "https://localhost:8080/"
        },
        "id": "M0zjqefxuFki",
        "outputId": "490e0ef8-a8d7-4013-9c90-fbb8339814a7"
      },
      "execution_count": 28,
      "outputs": [
        {
          "output_type": "stream",
          "name": "stdout",
          "text": [
            "{'Mean': np.float64(34.1173465670945), 'Median': 32.73936224300995, 'Min': 24.8980985209346, 'Max': 49.9481439974625, '95th Percentile': np.float64(44.246640514793384)}\n",
            "{'Mean': np.float64(31.310979084368835), 'Median': 30.54158590501175, 'Min': 20.4175257496536, 'Max': 47.3691279441118, '95th Percentile': np.float64(39.7644607548136)}\n",
            "c = : 65.43\n",
            "n = : 7.0\n"
          ]
        }
      ]
    }
  ]
}